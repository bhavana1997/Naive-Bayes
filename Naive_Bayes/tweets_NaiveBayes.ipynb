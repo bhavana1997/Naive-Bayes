{
 "cells": [
  {
   "cell_type": "code",
   "execution_count": 1,
   "id": "a91beafd",
   "metadata": {},
   "outputs": [],
   "source": [
    "import pandas as pd\n",
    "import numpy as np\n",
    "from sklearn.feature_extraction.text import CountVectorizer,TfidfTransformer"
   ]
  },
  {
   "cell_type": "code",
   "execution_count": 2,
   "id": "378f2b38",
   "metadata": {},
   "outputs": [],
   "source": [
    "tweet = pd.read_csv(r\"C:\\Users\\SALLA BHAVANA\\Desktop\\data science\\naive baiyes Classifier\\Datasets_Naive Bayes\\Disaster_tweets_NB.csv\")"
   ]
  },
  {
   "cell_type": "code",
   "execution_count": 3,
   "id": "4cc7320a",
   "metadata": {},
   "outputs": [
    {
     "data": {
      "text/plain": [
       "count                                                  7613\n",
       "unique                                                 7503\n",
       "top       11-Year-Old Boy Charged With Manslaughter of T...\n",
       "freq                                                     10\n",
       "Name: text, dtype: object"
      ]
     },
     "execution_count": 3,
     "metadata": {},
     "output_type": "execute_result"
    }
   ],
   "source": [
    "tweet.text.describe()"
   ]
  },
  {
   "cell_type": "code",
   "execution_count": 12,
   "id": "b18f2a8f",
   "metadata": {},
   "outputs": [
    {
     "data": {
      "text/plain": [
       "Index(['id', 'keyword', 'location', 'text', 'target'], dtype='object')"
      ]
     },
     "execution_count": 12,
     "metadata": {},
     "output_type": "execute_result"
    }
   ],
   "source": [
    "tweet.columns"
   ]
  },
  {
   "cell_type": "code",
   "execution_count": 14,
   "id": "bd51472d",
   "metadata": {},
   "outputs": [],
   "source": [
    "tweet1=tweet.loc[:,['text','target']]"
   ]
  },
  {
   "cell_type": "code",
   "execution_count": 4,
   "id": "b59c00b3",
   "metadata": {},
   "outputs": [],
   "source": [
    "import re"
   ]
  },
  {
   "cell_type": "code",
   "execution_count": 8,
   "id": "64d03826",
   "metadata": {},
   "outputs": [],
   "source": [
    "def cleaning_text(i):\n",
    "    i=re.sub(\"[^A-Za-z\" \"]+\", \" \",i).lower()\n",
    "    w=[]\n",
    "    for word in i.split():\n",
    "        if len(word)>3:\n",
    "            w.append(word)\n",
    "    return (\" \".join(w))"
   ]
  },
  {
   "cell_type": "code",
   "execution_count": 9,
   "id": "a87512c1",
   "metadata": {},
   "outputs": [
    {
     "data": {
      "text/plain": [
       "'hope having good week just checking'"
      ]
     },
     "execution_count": 9,
     "metadata": {},
     "output_type": "execute_result"
    }
   ],
   "source": [
    "# testing above function with sample text => removes punctuations, numbers\n",
    "cleaning_text(\"Hope you are having a good week. Just checking in\")"
   ]
  },
  {
   "cell_type": "code",
   "execution_count": 15,
   "id": "b8a40be0",
   "metadata": {},
   "outputs": [],
   "source": [
    "tweet1.text=tweet1.text.apply(cleaning_text)"
   ]
  },
  {
   "cell_type": "code",
   "execution_count": 16,
   "id": "6798da76",
   "metadata": {},
   "outputs": [
    {
     "data": {
      "text/plain": [
       "0              deeds reason this earthquake allah forgive\n",
       "1                      forest fire near ronge sask canada\n",
       "2       residents asked shelter place being notified o...\n",
       "3       people receive wildfires evacuation orders cal...\n",
       "4       just sent this photo from ruby alaska smoke fr...\n",
       "                              ...                        \n",
       "7608    giant cranes holding bridge collapse into near...\n",
       "7609    aria ahrary thetawniest control wild fires cal...\n",
       "7610                           volcano hawaii http zdtoyd\n",
       "7611    police investigating after bike collided with ...\n",
       "7612    latest more homes razed northern california wi...\n",
       "Name: text, Length: 7613, dtype: object"
      ]
     },
     "execution_count": 16,
     "metadata": {},
     "output_type": "execute_result"
    }
   ],
   "source": [
    "tweet1.text"
   ]
  },
  {
   "cell_type": "code",
   "execution_count": 17,
   "id": "2e6f5513",
   "metadata": {},
   "outputs": [],
   "source": [
    "tweet1= tweet1.loc[tweet1.text!=\"\",:]"
   ]
  },
  {
   "cell_type": "code",
   "execution_count": 32,
   "id": "694a8a4c",
   "metadata": {},
   "outputs": [],
   "source": [
    "#split the data\n",
    "from sklearn.model_selection import train_test_split"
   ]
  },
  {
   "cell_type": "code",
   "execution_count": 33,
   "id": "77df153a",
   "metadata": {},
   "outputs": [],
   "source": [
    "tweet_train, tweet_test = train_test_split(tweet1, test_size = 0.2)"
   ]
  },
  {
   "cell_type": "code",
   "execution_count": 34,
   "id": "987481e5",
   "metadata": {},
   "outputs": [],
   "source": [
    "def split_into_words(i):\n",
    "    return [word for word in i.split(\" \")]"
   ]
  },
  {
   "cell_type": "code",
   "execution_count": 35,
   "id": "97f4732e",
   "metadata": {},
   "outputs": [],
   "source": [
    "# Defining the preparation of email texts into word count matrix format - Bag of Words\n",
    "tweet_bow= CountVectorizer(analyzer=split_into_words).fit(tweet1.text)"
   ]
  },
  {
   "cell_type": "code",
   "execution_count": 36,
   "id": "2ebebe93",
   "metadata": {},
   "outputs": [],
   "source": [
    "tweet_matrix = tweet_bow.transform(tweet1.text)"
   ]
  },
  {
   "cell_type": "code",
   "execution_count": 37,
   "id": "df4d9a5a",
   "metadata": {},
   "outputs": [],
   "source": [
    "tweet_test_matrix = tweet_bow.transform(tweet_test.text)"
   ]
  },
  {
   "cell_type": "code",
   "execution_count": 38,
   "id": "9fb75ce0",
   "metadata": {},
   "outputs": [],
   "source": [
    "tweet_train_matrix = tweet_bow.transform(tweet_train.text)"
   ]
  },
  {
   "cell_type": "code",
   "execution_count": 39,
   "id": "26deff52",
   "metadata": {},
   "outputs": [],
   "source": [
    "# Learning Term weighting and normalizing on entire emails\n",
    "tfidf_transformer = TfidfTransformer().fit(tweet_matrix)"
   ]
  },
  {
   "cell_type": "code",
   "execution_count": 40,
   "id": "380a9df1",
   "metadata": {},
   "outputs": [],
   "source": [
    "test_tfidf=tfidf_transformer.transform(tweet_test_matrix)"
   ]
  },
  {
   "cell_type": "code",
   "execution_count": 41,
   "id": "05d2e94c",
   "metadata": {},
   "outputs": [],
   "source": [
    "train_tfidf=tfidf_transformer.transform(tweet_train_matrix)"
   ]
  },
  {
   "cell_type": "code",
   "execution_count": 42,
   "id": "3d7d2b6c",
   "metadata": {},
   "outputs": [
    {
     "data": {
      "text/plain": [
       "(1522, 19279)"
      ]
     },
     "execution_count": 42,
     "metadata": {},
     "output_type": "execute_result"
    }
   ],
   "source": [
    "test_tfidf.shape"
   ]
  },
  {
   "cell_type": "code",
   "execution_count": 43,
   "id": "638a9bfa",
   "metadata": {},
   "outputs": [
    {
     "data": {
      "text/plain": [
       "(6088, 19279)"
      ]
     },
     "execution_count": 43,
     "metadata": {},
     "output_type": "execute_result"
    }
   ],
   "source": [
    "train_tfidf.shape"
   ]
  },
  {
   "cell_type": "code",
   "execution_count": 44,
   "id": "195b30b9",
   "metadata": {},
   "outputs": [],
   "source": [
    "from sklearn.naive_bayes import MultinomialNB as MB"
   ]
  },
  {
   "cell_type": "code",
   "execution_count": 45,
   "id": "78ca17fb",
   "metadata": {},
   "outputs": [],
   "source": [
    "classifier_mb = MB()"
   ]
  },
  {
   "cell_type": "code",
   "execution_count": 46,
   "id": "74d4da52",
   "metadata": {},
   "outputs": [
    {
     "data": {
      "text/plain": [
       "MultinomialNB()"
      ]
     },
     "execution_count": 46,
     "metadata": {},
     "output_type": "execute_result"
    }
   ],
   "source": [
    "classifier_mb.fit(train_tfidf, tweet_train.target)"
   ]
  },
  {
   "cell_type": "code",
   "execution_count": 47,
   "id": "0f63adf8",
   "metadata": {},
   "outputs": [
    {
     "data": {
      "text/plain": [
       "array([0, 0, 1, ..., 0, 0, 1], dtype=int64)"
      ]
     },
     "execution_count": 47,
     "metadata": {},
     "output_type": "execute_result"
    }
   ],
   "source": [
    "test_pred_m = classifier_mb.predict(test_tfidf)\n",
    "test_pred_m"
   ]
  },
  {
   "cell_type": "code",
   "execution_count": 49,
   "id": "fc835e63",
   "metadata": {},
   "outputs": [
    {
     "data": {
      "text/plain": [
       "0.816688567674113"
      ]
     },
     "execution_count": 49,
     "metadata": {},
     "output_type": "execute_result"
    }
   ],
   "source": [
    "from sklearn.metrics import accuracy_score\n",
    "accuracy_score(test_pred_m, tweet_test.target)"
   ]
  },
  {
   "cell_type": "code",
   "execution_count": 51,
   "id": "79b02c60",
   "metadata": {},
   "outputs": [
    {
     "data": {
      "text/html": [
       "<div>\n",
       "<style scoped>\n",
       "    .dataframe tbody tr th:only-of-type {\n",
       "        vertical-align: middle;\n",
       "    }\n",
       "\n",
       "    .dataframe tbody tr th {\n",
       "        vertical-align: top;\n",
       "    }\n",
       "\n",
       "    .dataframe thead th {\n",
       "        text-align: right;\n",
       "    }\n",
       "</style>\n",
       "<table border=\"1\" class=\"dataframe\">\n",
       "  <thead>\n",
       "    <tr style=\"text-align: right;\">\n",
       "      <th>target</th>\n",
       "      <th>0</th>\n",
       "      <th>1</th>\n",
       "    </tr>\n",
       "    <tr>\n",
       "      <th>row_0</th>\n",
       "      <th></th>\n",
       "      <th></th>\n",
       "    </tr>\n",
       "  </thead>\n",
       "  <tbody>\n",
       "    <tr>\n",
       "      <th>0</th>\n",
       "      <td>796</td>\n",
       "      <td>205</td>\n",
       "    </tr>\n",
       "    <tr>\n",
       "      <th>1</th>\n",
       "      <td>74</td>\n",
       "      <td>447</td>\n",
       "    </tr>\n",
       "  </tbody>\n",
       "</table>\n",
       "</div>"
      ],
      "text/plain": [
       "target    0    1\n",
       "row_0           \n",
       "0       796  205\n",
       "1        74  447"
      ]
     },
     "execution_count": 51,
     "metadata": {},
     "output_type": "execute_result"
    }
   ],
   "source": [
    "pd.crosstab(test_pred_m, tweet_test.target)"
   ]
  },
  {
   "cell_type": "code",
   "execution_count": 52,
   "id": "5b35f83b",
   "metadata": {},
   "outputs": [
    {
     "data": {
      "text/plain": [
       "array([0, 0, 0, ..., 1, 1, 0], dtype=int64)"
      ]
     },
     "execution_count": 52,
     "metadata": {},
     "output_type": "execute_result"
    }
   ],
   "source": [
    "train_pred_m = classifier_mb.predict(train_tfidf)\n",
    "train_pred_m"
   ]
  },
  {
   "cell_type": "code",
   "execution_count": 53,
   "id": "1556176a",
   "metadata": {},
   "outputs": [
    {
     "data": {
      "text/plain": [
       "0.9034165571616294"
      ]
     },
     "execution_count": 53,
     "metadata": {},
     "output_type": "execute_result"
    }
   ],
   "source": [
    "from sklearn.metrics import accuracy_score\n",
    "accuracy_score(train_pred_m, tweet_train.target)"
   ]
  },
  {
   "cell_type": "code",
   "execution_count": 54,
   "id": "ed7fb637",
   "metadata": {},
   "outputs": [
    {
     "data": {
      "text/html": [
       "<div>\n",
       "<style scoped>\n",
       "    .dataframe tbody tr th:only-of-type {\n",
       "        vertical-align: middle;\n",
       "    }\n",
       "\n",
       "    .dataframe tbody tr th {\n",
       "        vertical-align: top;\n",
       "    }\n",
       "\n",
       "    .dataframe thead th {\n",
       "        text-align: right;\n",
       "    }\n",
       "</style>\n",
       "<table border=\"1\" class=\"dataframe\">\n",
       "  <thead>\n",
       "    <tr style=\"text-align: right;\">\n",
       "      <th>target</th>\n",
       "      <th>0</th>\n",
       "      <th>1</th>\n",
       "    </tr>\n",
       "    <tr>\n",
       "      <th>row_0</th>\n",
       "      <th></th>\n",
       "      <th></th>\n",
       "    </tr>\n",
       "  </thead>\n",
       "  <tbody>\n",
       "    <tr>\n",
       "      <th>0</th>\n",
       "      <td>3396</td>\n",
       "      <td>515</td>\n",
       "    </tr>\n",
       "    <tr>\n",
       "      <th>1</th>\n",
       "      <td>73</td>\n",
       "      <td>2104</td>\n",
       "    </tr>\n",
       "  </tbody>\n",
       "</table>\n",
       "</div>"
      ],
      "text/plain": [
       "target     0     1\n",
       "row_0             \n",
       "0       3396   515\n",
       "1         73  2104"
      ]
     },
     "execution_count": 54,
     "metadata": {},
     "output_type": "execute_result"
    }
   ],
   "source": [
    "pd.crosstab(train_pred_m, tweet_train.target)"
   ]
  },
  {
   "cell_type": "code",
   "execution_count": 73,
   "id": "f819e2ae",
   "metadata": {},
   "outputs": [],
   "source": [
    "classifier_mb = MB(alpha=0.5)"
   ]
  },
  {
   "cell_type": "code",
   "execution_count": 74,
   "id": "45fa36ec",
   "metadata": {},
   "outputs": [
    {
     "data": {
      "text/plain": [
       "MultinomialNB(alpha=0.5)"
      ]
     },
     "execution_count": 74,
     "metadata": {},
     "output_type": "execute_result"
    }
   ],
   "source": [
    "classifier_mb.fit(train_tfidf, tweet_train.target)"
   ]
  },
  {
   "cell_type": "code",
   "execution_count": 75,
   "id": "e7e0e955",
   "metadata": {},
   "outputs": [
    {
     "data": {
      "text/plain": [
       "array([0, 0, 1, ..., 0, 0, 1], dtype=int64)"
      ]
     },
     "execution_count": 75,
     "metadata": {},
     "output_type": "execute_result"
    }
   ],
   "source": [
    "test_pred_m = classifier_mb.predict(test_tfidf)\n",
    "test_pred_m"
   ]
  },
  {
   "cell_type": "code",
   "execution_count": 76,
   "id": "37415c8d",
   "metadata": {},
   "outputs": [
    {
     "data": {
      "text/plain": [
       "0.8127463863337714"
      ]
     },
     "execution_count": 76,
     "metadata": {},
     "output_type": "execute_result"
    }
   ],
   "source": [
    "from sklearn.metrics import accuracy_score\n",
    "accuracy_score(test_pred_m, tweet_test.target)"
   ]
  },
  {
   "cell_type": "code",
   "execution_count": 77,
   "id": "8fef4d97",
   "metadata": {},
   "outputs": [
    {
     "data": {
      "text/html": [
       "<div>\n",
       "<style scoped>\n",
       "    .dataframe tbody tr th:only-of-type {\n",
       "        vertical-align: middle;\n",
       "    }\n",
       "\n",
       "    .dataframe tbody tr th {\n",
       "        vertical-align: top;\n",
       "    }\n",
       "\n",
       "    .dataframe thead th {\n",
       "        text-align: right;\n",
       "    }\n",
       "</style>\n",
       "<table border=\"1\" class=\"dataframe\">\n",
       "  <thead>\n",
       "    <tr style=\"text-align: right;\">\n",
       "      <th>target</th>\n",
       "      <th>0</th>\n",
       "      <th>1</th>\n",
       "    </tr>\n",
       "    <tr>\n",
       "      <th>row_0</th>\n",
       "      <th></th>\n",
       "      <th></th>\n",
       "    </tr>\n",
       "  </thead>\n",
       "  <tbody>\n",
       "    <tr>\n",
       "      <th>0</th>\n",
       "      <td>777</td>\n",
       "      <td>192</td>\n",
       "    </tr>\n",
       "    <tr>\n",
       "      <th>1</th>\n",
       "      <td>93</td>\n",
       "      <td>460</td>\n",
       "    </tr>\n",
       "  </tbody>\n",
       "</table>\n",
       "</div>"
      ],
      "text/plain": [
       "target    0    1\n",
       "row_0           \n",
       "0       777  192\n",
       "1        93  460"
      ]
     },
     "execution_count": 77,
     "metadata": {},
     "output_type": "execute_result"
    }
   ],
   "source": [
    "pd.crosstab(test_pred_m, tweet_test.target)"
   ]
  },
  {
   "cell_type": "code",
   "execution_count": 78,
   "id": "bdfb9b13",
   "metadata": {},
   "outputs": [
    {
     "data": {
      "text/plain": [
       "array([0, 0, 0, ..., 1, 1, 0], dtype=int64)"
      ]
     },
     "execution_count": 78,
     "metadata": {},
     "output_type": "execute_result"
    }
   ],
   "source": [
    "train_pred_m = classifier_mb.predict(train_tfidf)\n",
    "train_pred_m"
   ]
  },
  {
   "cell_type": "code",
   "execution_count": 79,
   "id": "26d03203",
   "metadata": {},
   "outputs": [
    {
     "data": {
      "text/plain": [
       "0.9262483574244416"
      ]
     },
     "execution_count": 79,
     "metadata": {},
     "output_type": "execute_result"
    }
   ],
   "source": [
    "from sklearn.metrics import accuracy_score\n",
    "accuracy_score(train_pred_m, tweet_train.target)"
   ]
  },
  {
   "cell_type": "code",
   "execution_count": 80,
   "id": "07b6a4d4",
   "metadata": {},
   "outputs": [
    {
     "data": {
      "text/html": [
       "<div>\n",
       "<style scoped>\n",
       "    .dataframe tbody tr th:only-of-type {\n",
       "        vertical-align: middle;\n",
       "    }\n",
       "\n",
       "    .dataframe tbody tr th {\n",
       "        vertical-align: top;\n",
       "    }\n",
       "\n",
       "    .dataframe thead th {\n",
       "        text-align: right;\n",
       "    }\n",
       "</style>\n",
       "<table border=\"1\" class=\"dataframe\">\n",
       "  <thead>\n",
       "    <tr style=\"text-align: right;\">\n",
       "      <th>target</th>\n",
       "      <th>0</th>\n",
       "      <th>1</th>\n",
       "    </tr>\n",
       "    <tr>\n",
       "      <th>row_0</th>\n",
       "      <th></th>\n",
       "      <th></th>\n",
       "    </tr>\n",
       "  </thead>\n",
       "  <tbody>\n",
       "    <tr>\n",
       "      <th>0</th>\n",
       "      <td>3399</td>\n",
       "      <td>379</td>\n",
       "    </tr>\n",
       "    <tr>\n",
       "      <th>1</th>\n",
       "      <td>70</td>\n",
       "      <td>2240</td>\n",
       "    </tr>\n",
       "  </tbody>\n",
       "</table>\n",
       "</div>"
      ],
      "text/plain": [
       "target     0     1\n",
       "row_0             \n",
       "0       3399   379\n",
       "1         70  2240"
      ]
     },
     "execution_count": 80,
     "metadata": {},
     "output_type": "execute_result"
    }
   ],
   "source": [
    "pd.crosstab(train_pred_m, tweet_train.target)"
   ]
  },
  {
   "cell_type": "code",
   "execution_count": null,
   "id": "3dcbbd8d",
   "metadata": {},
   "outputs": [],
   "source": []
  }
 ],
 "metadata": {
  "kernelspec": {
   "display_name": "Python 3 (ipykernel)",
   "language": "python",
   "name": "python3"
  },
  "language_info": {
   "codemirror_mode": {
    "name": "ipython",
    "version": 3
   },
   "file_extension": ".py",
   "mimetype": "text/x-python",
   "name": "python",
   "nbconvert_exporter": "python",
   "pygments_lexer": "ipython3",
   "version": "3.9.7"
  }
 },
 "nbformat": 4,
 "nbformat_minor": 5
}
